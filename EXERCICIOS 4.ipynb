{
 "cells": [
  {
   "cell_type": "code",
   "execution_count": 15,
   "metadata": {},
   "outputs": [
    {
     "name": "stdout",
     "output_type": "stream",
     "text": [
      "2 4\n",
      "O antigo é:  None\n",
      "2 4\n",
      "o novo é: \n",
      "4 6\n"
     ]
    }
   ],
   "source": [
    "# RESPOSTA 1 - Crie um objeto a partir da classe abaixo, chamado roc1, \n",
    "# passando 2 parâmetros e depois faça uma chamada aos atributos e métodos\n",
    "\n",
    "from math import sqrt\n",
    "\n",
    "class Rocket():\n",
    "     \n",
    "    def __init__(self, x=0, y=0):\n",
    "        self.x = x\n",
    "        self.y = y\n",
    "        \n",
    "    def move_rocket(self, x_increment=0, y_increment=1):\n",
    "        self.x += x_increment\n",
    "        self.y += y_increment\n",
    "        \n",
    "    def print_rocket(self):\n",
    "        print(self.x, self.y)\n",
    "\n",
    "    def setRoc(self, novo_x, novo_y):\n",
    "         self.x = novo_x\n",
    "         self.y = novo_y\n",
    "\n",
    "\n",
    "roc1 = Rocket(1,2)\n",
    "\n",
    "roc1.move_rocket(1,2)\n",
    "\n",
    "print('O antigo é: ',)\n",
    "roc1.print_rocket()\n",
    "\n",
    "roc1.setRoc(3,4)\n",
    "roc1.move_rocket(1,2)\n",
    "\n",
    "print('o novo é: ' )\n",
    "roc1.print_rocket()\n",
    "\n",
    "\n"
   ]
  },
  {
   "cell_type": "code",
   "execution_count": 20,
   "metadata": {},
   "outputs": [
    {
     "name": "stdout",
     "output_type": "stream",
     "text": [
      "O nome é:  Marcus\n",
      "A cidade é:  Sorocaba\n",
      "O email é:  marcus.camargo@santander.com.br\n",
      "O telefone é:  15998428124 \n",
      "\n",
      "O nome é:  Amabile\n",
      "A cidade é:  Cerqueira\n",
      "O email é:  amabile.ang@icloud.com\n",
      "O telefone é:  15998541863 \n",
      "\n",
      "O nome é:  Livia\n",
      "A cidade é:  Sorocaba\n",
      "O email é:  lviia.sksi@fkffoof.fikfi\n",
      "O telefone é:  1551515151 \n",
      "\n"
     ]
    }
   ],
   "source": [
    "# RESPOSTA 2 - Crie uma classe chamada Pessoa() com os atributos: nome, cidade, telefone e e-mail. Use pelo menos 2\n",
    "# métodos especiais na sua classe. Crie um objeto da sua classe e faça uma chamada a pelo menos um dos seus métodos\n",
    "# especiais.\n",
    "\n",
    "\n",
    "class Pessoa():\n",
    "   def __init__(self, nome, cidade, telefone, email):\n",
    "      self.nome = nome\n",
    "      self.cidade = cidade\n",
    "      self.telefone = telefone\n",
    "      self.email = email\n",
    "\n",
    "   def setPessoa(self, novo_nome, novo_cidade, novo_tel, novo_email):\n",
    "      self.nome = novo_nome\n",
    "      self.cidade = novo_cidade\n",
    "      self.telefone = novo_tel\n",
    "      self.email = novo_email\n",
    "\n",
    "   def getPessoa(self):\n",
    "      print('O nome é: ', self.nome)\n",
    "      print('A cidade é: ', self.cidade)\n",
    "      print('O email é: ', self.email)\n",
    "      print('O telefone é: ', self.telefone, '\\n')\n",
    "\n",
    "pes1 = Pessoa('Marcus', 'Sorocaba', '15998428124', 'marcus.camargo@santander.com.br')\n",
    "pes1.getPessoa()\n",
    "pes1.setPessoa('Amabile', 'Cerqueira', '15998541863', 'amabile.ang@icloud.com')\n",
    "pes1.getPessoa()\n",
    "pes2 = Pessoa('Livia', 'Sorocaba', '1551515151', 'lviia.sksi@fkffoof.fikfi')\n",
    "pes2.getPessoa()\n"
   ]
  },
  {
   "cell_type": "code",
   "execution_count": 3,
   "metadata": {},
   "outputs": [
    {
     "name": "stdout",
     "output_type": "stream",
     "text": [
      "LED\n",
      "GRANDE\n",
      "256 \n",
      "\n",
      "P\n"
     ]
    }
   ],
   "source": [
    "# Resposta 3 - Crie a classe Smartphone com 2 atributos, tamanho e interface e crie a classe MP3Player com os \n",
    "# atributos capacidade. A classe MP3player deve herdar os atributos da classe Smartphone.\n",
    "\n",
    "\n",
    "class Smartphone():\n",
    "   def __init__(self, tamanho, interface):\n",
    "      self.tamanho = tamanho\n",
    "      self.interface = interface\n",
    "\n",
    "\n",
    "\n",
    "\n",
    "class MP3Player(Smartphone):\n",
    "   def __init__(self,tamanho, interface, capacidade):\n",
    "      Smartphone.__init__(self, tamanho, interface)\n",
    "      self.capacidade = capacidade\n",
    "\n",
    "   def getCell(self):\n",
    "      print(self.interface)\n",
    "      print(self.tamanho)\n",
    "      print(self.capacidade, '\\n')\n",
    "\n",
    "\n",
    "\n",
    "cel2 = MP3Player('GRANDE', 'LED', 256)\n",
    "\n",
    "cel2.getCell()\n",
    "\n",
    "   \n",
    "cel1 = Smartphone('P', 'LSD')\n",
    "\n",
    "print(cel1.tamanho)\n",
    "\n",
    "\n"
   ]
  }
 ],
 "metadata": {
  "kernelspec": {
   "display_name": "base",
   "language": "python",
   "name": "python3"
  },
  "language_info": {
   "codemirror_mode": {
    "name": "ipython",
    "version": 3
   },
   "file_extension": ".py",
   "mimetype": "text/x-python",
   "name": "python",
   "nbconvert_exporter": "python",
   "pygments_lexer": "ipython3",
   "version": "3.12.1"
  }
 },
 "nbformat": 4,
 "nbformat_minor": 2
}
