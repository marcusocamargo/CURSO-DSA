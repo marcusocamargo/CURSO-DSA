{
 "cells": [
  {
   "cell_type": "code",
   "execution_count": 78,
   "metadata": {},
   "outputs": [
    {
     "name": "stdout",
     "output_type": "stream",
     "text": [
      "terca -feira braba! Você Precisa Trabalhar!! Acorda vagabundo!\n"
     ]
    }
   ],
   "source": [
    "# Resposta 1\n",
    "qualODia = str(input(\"Qual o dia da semana?\\n segunda \\n terca \\n quarta \\n quinta \\n sexta \\n sabado ou \\n domingo\"))\n",
    "filtro = qualODia.lower()\n",
    "if filtro == 'segunda' or filtro == 'terca' or filtro == 'quarta' or filtro == 'quinta' or filtro == 'sexta':\n",
    "   print(filtro, '-feira braba! Você Precisa Trabalhar!! Acorda vagabundo!')\n",
    "elif filtro == 'sabado' or filtro == 'domingo':\n",
    "   print(filtro, ' Dia de descasar safado! Aproveite!')\n",
    "else:\n",
    "   print('Você não digitou conforme solicitado, digite: segunda, terca, quarta, quinta, sexta, sabado ou domingo! Caraio!')    \n"
   ]
  },
  {
   "cell_type": "code",
   "execution_count": 35,
   "metadata": {},
   "outputs": [
    {
     "name": "stdout",
     "output_type": "stream",
     "text": [
      "Morango faz parte da lista de frutas.\n"
     ]
    }
   ],
   "source": [
    "# Resposta 2\n",
    "lista = ['Laranja', 'Maça', 'Abacaxi', 'Uva', 'Morango']\n",
    "for fruta in lista:\n",
    "    if fruta == 'Morango':\n",
    "        print(\"Morango faz parte da lista de frutas.\")"
   ]
  },
  {
   "cell_type": "code",
   "execution_count": 51,
   "metadata": {},
   "outputs": [
    {
     "name": "stdout",
     "output_type": "stream",
     "text": [
      "[320, 6540, 4560, 8880]\n"
     ]
    }
   ],
   "source": [
    "# Resposta 3\n",
    "tupla = (32,654,456,888)\n",
    "lista = []\n",
    "for i in tupla:\n",
    "   lista.append(i*10)\n",
    "\n",
    "print(lista)"
   ]
  },
  {
   "cell_type": "code",
   "execution_count": 60,
   "metadata": {},
   "outputs": [
    {
     "name": "stdout",
     "output_type": "stream",
     "text": [
      "100\n",
      "102\n",
      "104\n",
      "106\n",
      "108\n",
      "110\n",
      "112\n",
      "114\n",
      "116\n",
      "118\n",
      "120\n",
      "122\n",
      "124\n",
      "126\n",
      "128\n",
      "130\n",
      "132\n",
      "134\n",
      "136\n",
      "138\n",
      "140\n",
      "142\n",
      "144\n",
      "146\n",
      "148\n",
      "150\n"
     ]
    }
   ],
   "source": [
    "# Resposta 4\n",
    "lista = []\n",
    "for i in range(100,151,2):\n",
    "   print(i)"
   ]
  },
  {
   "cell_type": "code",
   "execution_count": 64,
   "metadata": {},
   "outputs": [
    {
     "name": "stdout",
     "output_type": "stream",
     "text": [
      "36\n"
     ]
    }
   ],
   "source": [
    "# Resposta 5\n",
    "\n",
    "temperatura = 36\n",
    "if temperatura > 35:\n",
    "   print(temperatura)"
   ]
  },
  {
   "cell_type": "code",
   "execution_count": 65,
   "metadata": {},
   "outputs": [
    {
     "name": "stdout",
     "output_type": "stream",
     "text": [
      "0\n",
      "1\n",
      "2\n",
      "3\n",
      "4\n",
      "5\n",
      "6\n",
      "7\n",
      "8\n",
      "9\n",
      "10\n",
      "11\n",
      "12\n",
      "13\n",
      "14\n",
      "15\n",
      "16\n",
      "17\n",
      "18\n",
      "19\n",
      "20\n",
      "21\n",
      "22\n"
     ]
    }
   ],
   "source": [
    "#resposta 6\n",
    "contador = 0\n",
    "while contador < 100:\n",
    "   if contador == 23:\n",
    "      break\n",
    "   else:\n",
    "      print(contador)\n",
    "      contador += 1\n",
    "\n"
   ]
  },
  {
   "cell_type": "code",
   "execution_count": 71,
   "metadata": {},
   "outputs": [
    {
     "name": "stdout",
     "output_type": "stream",
     "text": [
      "[4, 6, 8, 10, 12, 14, 16, 18, 20]\n"
     ]
    }
   ],
   "source": [
    "# resposta 7\n",
    "\n",
    "lista = []\n",
    "varr = 4\n",
    "while varr <= 20:\n",
    "   if varr == 21:\n",
    "      break\n",
    "   else:\n",
    "      lista.append(varr)\n",
    "      varr = varr + 2\n",
    "print(lista)"
   ]
  },
  {
   "cell_type": "code",
   "execution_count": 75,
   "metadata": {},
   "outputs": [
    {
     "data": {
      "text/plain": [
       "[5, 7, 9, 11, 13, 15, 17, 19, 21, 23, 25, 27, 29, 31, 33, 35, 37, 39, 41, 43]"
      ]
     },
     "execution_count": 75,
     "metadata": {},
     "output_type": "execute_result"
    }
   ],
   "source": [
    "#Resposta 8 \n",
    "nums = range(5, 45, 2)\n",
    "lista = []\n",
    "for i in nums:\n",
    "   lista.append(i)\n",
    "\n",
    "lista"
   ]
  },
  {
   "cell_type": "code",
   "execution_count": 79,
   "metadata": {},
   "outputs": [
    {
     "name": "stdout",
     "output_type": "stream",
     "text": [
      "Busque seus casacos.\n"
     ]
    }
   ],
   "source": [
    "#Resposta 9\n",
    "\n",
    "temperatura = float(input('Qual a temperatura? '))\n",
    "if temperatura > 30:\n",
    "   print('Vista roupas leves.')\n",
    "else:\n",
    "   print('Busque seus casacos.')"
   ]
  },
  {
   "cell_type": "code",
   "execution_count": 100,
   "metadata": {},
   "outputs": [
    {
     "name": "stdout",
     "output_type": "stream",
     "text": [
      "O caracter r aparece 5 vezes na frase.\n"
     ]
    }
   ],
   "source": [
    "#Resposta 10\n",
    "\n",
    "frase = \"A gratidão é a virtude das almas nobres. O quão feliz é uma pessoa depende da profundidade de sua gratidão.\" \n",
    "count = 0\n",
    "for caracter in frase:\n",
    "    if caracter == 'r':\n",
    "        count += 1\n",
    "print(\"O caracter r aparece %s vezes na frase.\" %(count))"
   ]
  }
 ],
 "metadata": {
  "kernelspec": {
   "display_name": "base",
   "language": "python",
   "name": "python3"
  },
  "language_info": {
   "codemirror_mode": {
    "name": "ipython",
    "version": 3
   },
   "file_extension": ".py",
   "mimetype": "text/x-python",
   "name": "python",
   "nbconvert_exporter": "python",
   "pygments_lexer": "ipython3",
   "version": "3.9.13"
  }
 },
 "nbformat": 4,
 "nbformat_minor": 2
}
